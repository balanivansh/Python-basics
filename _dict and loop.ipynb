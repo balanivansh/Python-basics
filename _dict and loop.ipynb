{
 "cells": [
  {
   "cell_type": "markdown",
   "id": "86ae4f5d",
   "metadata": {},
   "source": [
    "# Dictionary"
   ]
  },
  {
   "cell_type": "code",
   "execution_count": 1,
   "id": "ba72e3a1",
   "metadata": {},
   "outputs": [
    {
     "data": {
      "text/plain": [
       "'value'"
      ]
     },
     "execution_count": 1,
     "metadata": {},
     "output_type": "execute_result"
    }
   ],
   "source": [
    "d={'key':'value'}\n",
    "d['key']"
   ]
  },
  {
   "cell_type": "code",
   "execution_count": 2,
   "id": "333ba978",
   "metadata": {},
   "outputs": [
    {
     "data": {
      "text/plain": [
       "'False'"
      ]
     },
     "execution_count": 2,
     "metadata": {},
     "output_type": "execute_result"
    }
   ],
   "source": [
    "# invalid keys\n",
    "# d1={_abc:\"234\"}\n",
    "# d1={@abc:\"  \"}\n",
    "\n",
    "# valid\n",
    "d1={'@abc':True}\n",
    "d2={224:\"car\"}\n",
    "d3={True:\"False\"}\n",
    "d3[1]\n",
    "# True is stored as 1"
   ]
  },
  {
   "cell_type": "code",
   "execution_count": 3,
   "id": "986dee06",
   "metadata": {},
   "outputs": [
    {
     "data": {
      "text/plain": [
       "'Vansh'"
      ]
     },
     "execution_count": 3,
     "metadata": {},
     "output_type": "execute_result"
    }
   ],
   "source": [
    "# key should be unique\n",
    "d4={'name':'shottayam','state':'Bihar','name':'Vansh','state':'M.p.'}\n",
    "d4['name']\n",
    "\n",
    "# if key is not unique then it overight with the last value"
   ]
  },
  {
   "cell_type": "code",
   "execution_count": 4,
   "id": "27b6e0d4",
   "metadata": {},
   "outputs": [
    {
     "data": {
      "text/plain": [
       "('bgmi', 'clash royale', 'valorant')"
      ]
     },
     "execution_count": 4,
     "metadata": {},
     "output_type": "execute_result"
    }
   ],
   "source": [
    "# values can be list,set or tuples\n",
    "d5={'numbers':[5,6,7,8],'game':('bgmi','clash royale','valorant'),'balls':{'football','basketball','volleyball'},'courses':{'python':'beginner','ML':'intermediate','Deep learning':'advance'}}\n",
    "d5['game']"
   ]
  },
  {
   "cell_type": "code",
   "execution_count": 5,
   "id": "a95a7372",
   "metadata": {},
   "outputs": [
    {
     "data": {
      "text/plain": [
       "6"
      ]
     },
     "execution_count": 5,
     "metadata": {},
     "output_type": "execute_result"
    }
   ],
   "source": [
    "# accessing item of list inside a dictionary\n",
    "d5['numbers'][1]"
   ]
  },
  {
   "cell_type": "code",
   "execution_count": 6,
   "id": "54e6a992",
   "metadata": {},
   "outputs": [
    {
     "data": {
      "text/plain": [
       "'advance'"
      ]
     },
     "execution_count": 6,
     "metadata": {},
     "output_type": "execute_result"
    }
   ],
   "source": [
    "# calling values of dict inside dict\n",
    "d5['courses']['Deep learning']"
   ]
  },
  {
   "cell_type": "code",
   "execution_count": 7,
   "id": "68d84bdd",
   "metadata": {},
   "outputs": [
    {
     "data": {
      "text/plain": [
       "{True: 'False'}"
      ]
     },
     "execution_count": 7,
     "metadata": {},
     "output_type": "execute_result"
    }
   ],
   "source": [
    "# adding new key\n",
    "d3"
   ]
  },
  {
   "cell_type": "code",
   "execution_count": 8,
   "id": "095197f2",
   "metadata": {},
   "outputs": [],
   "source": [
    "d3[False] = 'True'"
   ]
  },
  {
   "cell_type": "code",
   "execution_count": 9,
   "id": "9f262a39",
   "metadata": {},
   "outputs": [
    {
     "data": {
      "text/plain": [
       "{True: 'False', False: 'True'}"
      ]
     },
     "execution_count": 9,
     "metadata": {},
     "output_type": "execute_result"
    }
   ],
   "source": [
    "d3"
   ]
  },
  {
   "cell_type": "code",
   "execution_count": 10,
   "id": "1ed48dd1",
   "metadata": {},
   "outputs": [
    {
     "data": {
      "text/plain": [
       "{False: 'True'}"
      ]
     },
     "execution_count": 10,
     "metadata": {},
     "output_type": "execute_result"
    }
   ],
   "source": [
    "# deleting key,value\n",
    "\n",
    "del d3[True]\n",
    "d3"
   ]
  },
  {
   "cell_type": "code",
   "execution_count": 11,
   "id": "6bf47a90",
   "metadata": {},
   "outputs": [
    {
     "data": {
      "text/plain": [
       "{}"
      ]
     },
     "execution_count": 11,
     "metadata": {},
     "output_type": "execute_result"
    }
   ],
   "source": [
    "d3.pop(False)\n",
    "# deletes key, value pair according to the given key\n",
    "d3"
   ]
  },
  {
   "cell_type": "code",
   "execution_count": 12,
   "id": "b8a8aae9",
   "metadata": {},
   "outputs": [
    {
     "data": {
      "text/plain": [
       "dict_keys(['numbers', 'game', 'balls', 'courses'])"
      ]
     },
     "execution_count": 12,
     "metadata": {},
     "output_type": "execute_result"
    }
   ],
   "source": [
    "# some function of dictionary\n",
    "d5.keys()\n",
    "# returns (list) of keys"
   ]
  },
  {
   "cell_type": "code",
   "execution_count": 13,
   "id": "224637e7",
   "metadata": {},
   "outputs": [
    {
     "data": {
      "text/plain": [
       "dict_values([[5, 6, 7, 8], ('bgmi', 'clash royale', 'valorant'), {'basketball', 'football', 'volleyball'}, {'python': 'beginner', 'ML': 'intermediate', 'Deep learning': 'advance'}])"
      ]
     },
     "execution_count": 13,
     "metadata": {},
     "output_type": "execute_result"
    }
   ],
   "source": [
    "d5.values()"
   ]
  },
  {
   "cell_type": "code",
   "execution_count": 14,
   "id": "0ba02712",
   "metadata": {},
   "outputs": [
    {
     "data": {
      "text/plain": [
       "dict_items([('numbers', [5, 6, 7, 8]), ('game', ('bgmi', 'clash royale', 'valorant')), ('balls', {'basketball', 'football', 'volleyball'}), ('courses', {'python': 'beginner', 'ML': 'intermediate', 'Deep learning': 'advance'})])"
      ]
     },
     "execution_count": 14,
     "metadata": {},
     "output_type": "execute_result"
    }
   ],
   "source": [
    "d5.items()\n",
    "# keys and values both"
   ]
  },
  {
   "cell_type": "markdown",
   "id": "f5e7ae6a",
   "metadata": {},
   "source": [
    "# If, Elif, Else"
   ]
  },
  {
   "cell_type": "code",
   "execution_count": 16,
   "id": "19993fc2",
   "metadata": {},
   "outputs": [
    {
     "name": "stdout",
     "output_type": "stream",
     "text": [
      "Enter marks:60\n",
      "You need to work on it\n"
     ]
    }
   ],
   "source": [
    "marks=int(input(\"Enter marks:\"))\n",
    "if marks>=85:\n",
    "    print(\"Good\")\n",
    "elif marks<85 and marks>=65:\n",
    "    print(\"Average\")\n",
    "else:\n",
    "    print(\"You need to work on it!!\")"
   ]
  },
  {
   "cell_type": "markdown",
   "id": "4bc5c779",
   "metadata": {},
   "source": [
    "# Loop: "
   ]
  },
  {
   "cell_type": "code",
   "execution_count": 17,
   "id": "bf112ea6",
   "metadata": {},
   "outputs": [],
   "source": [
    "# add 1 to every element inside this list\n",
    "l=[1,2,3,4,5,6]"
   ]
  },
  {
   "cell_type": "code",
   "execution_count": 18,
   "id": "ccdafed1",
   "metadata": {},
   "outputs": [
    {
     "name": "stdout",
     "output_type": "stream",
     "text": [
      "2\n",
      "3\n",
      "4\n",
      "5\n",
      "6\n",
      "7\n"
     ]
    }
   ],
   "source": [
    "for i in l:\n",
    "    print(i+1)"
   ]
  },
  {
   "cell_type": "code",
   "execution_count": 21,
   "id": "4b25ce30",
   "metadata": {},
   "outputs": [
    {
     "data": {
      "text/plain": [
       "[2, 3, 4, 5, 6, 7]"
      ]
     },
     "execution_count": 21,
     "metadata": {},
     "output_type": "execute_result"
    }
   ],
   "source": [
    "# we have to return this in a form of list\n",
    "# define a new list\n",
    "l1=[]\n",
    "for i in l:\n",
    "    l1.append(i+1)\n",
    "l1  \n",
    "# here we call each element and append 1 to it"
   ]
  },
  {
   "cell_type": "code",
   "execution_count": 22,
   "id": "94e4da10",
   "metadata": {},
   "outputs": [],
   "source": [
    "# append is used to add at last\n",
    "# insert is used to insert at a given position\n",
    "# extend is used for itteratives like list,string-> it unwraps and add"
   ]
  },
  {
   "cell_type": "code",
   "execution_count": 23,
   "id": "0b6ac924",
   "metadata": {},
   "outputs": [
    {
     "data": {
      "text/plain": [
       "['PYTHON', 'LINEAR ALGEBRA', 'COMPUTER SYSTEM AND TOOLS', 'DATA SCIENCE']"
      ]
     },
     "execution_count": 23,
     "metadata": {},
     "output_type": "execute_result"
    }
   ],
   "source": [
    "# make all alphabets capital\n",
    "l2=['python','linear algebra','computer system and tools','data science']\n",
    "l3=[]\n",
    "for i in l2:\n",
    "    l3.append(i.upper())\n",
    "l3    "
   ]
  },
  {
   "cell_type": "code",
   "execution_count": null,
   "id": "0209af40",
   "metadata": {},
   "outputs": [],
   "source": []
  }
 ],
 "metadata": {
  "kernelspec": {
   "display_name": "Python 3 (ipykernel)",
   "language": "python",
   "name": "python3"
  },
  "language_info": {
   "codemirror_mode": {
    "name": "ipython",
    "version": 3
   },
   "file_extension": ".py",
   "mimetype": "text/x-python",
   "name": "python",
   "nbconvert_exporter": "python",
   "pygments_lexer": "ipython3",
   "version": "3.11.5"
  }
 },
 "nbformat": 4,
 "nbformat_minor": 5
}
