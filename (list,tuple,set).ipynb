{
 "cells": [
  {
   "cell_type": "code",
   "execution_count": 1,
   "id": "653e946c",
   "metadata": {},
   "outputs": [
    {
     "data": {
      "text/plain": [
       "12"
      ]
     },
     "execution_count": 1,
     "metadata": {},
     "output_type": "execute_result"
    }
   ],
   "source": [
    "s=\"Data Science\"\n",
    "len(s)"
   ]
  },
  {
   "cell_type": "code",
   "execution_count": 2,
   "id": "4e650a61",
   "metadata": {},
   "outputs": [
    {
     "data": {
      "text/plain": [
       "8"
      ]
     },
     "execution_count": 2,
     "metadata": {},
     "output_type": "execute_result"
    }
   ],
   "source": [
    "s.find(\"e\")\n",
    "# finds first occurance"
   ]
  },
  {
   "cell_type": "code",
   "execution_count": 3,
   "id": "d4f45e80",
   "metadata": {},
   "outputs": [
    {
     "data": {
      "text/plain": [
       "2"
      ]
     },
     "execution_count": 3,
     "metadata": {},
     "output_type": "execute_result"
    }
   ],
   "source": [
    "s.count(\"e\")"
   ]
  },
  {
   "cell_type": "code",
   "execution_count": 4,
   "id": "7ff11734",
   "metadata": {},
   "outputs": [
    {
     "data": {
      "text/plain": [
       "'Data science'"
      ]
     },
     "execution_count": 4,
     "metadata": {},
     "output_type": "execute_result"
    }
   ],
   "source": [
    "s.capitalize()\n",
    "# first letter capital"
   ]
  },
  {
   "cell_type": "code",
   "execution_count": 5,
   "id": "f476b730",
   "metadata": {},
   "outputs": [
    {
     "data": {
      "text/plain": [
       "'data science'"
      ]
     },
     "execution_count": 5,
     "metadata": {},
     "output_type": "execute_result"
    }
   ],
   "source": [
    "s.upper().lower()"
   ]
  },
  {
   "cell_type": "code",
   "execution_count": 6,
   "id": "31d63625",
   "metadata": {},
   "outputs": [
    {
     "data": {
      "text/plain": [
       "'Data Science 1'"
      ]
     },
     "execution_count": 6,
     "metadata": {},
     "output_type": "execute_result"
    }
   ],
   "source": [
    "#str + number\n",
    "s = s +' 1'\n",
    "# temporary stored at new location\n",
    "s"
   ]
  },
  {
   "cell_type": "code",
   "execution_count": 7,
   "id": "e19d1e64",
   "metadata": {},
   "outputs": [
    {
     "data": {
      "text/plain": [
       "'Data Science 1Data Science 1Data Science 1'"
      ]
     },
     "execution_count": 7,
     "metadata": {},
     "output_type": "execute_result"
    }
   ],
   "source": [
    "s*3\n",
    "#division not supported\n"
   ]
  },
  {
   "cell_type": "markdown",
   "id": "9ec3d273",
   "metadata": {},
   "source": [
    "# LIST"
   ]
  },
  {
   "cell_type": "code",
   "execution_count": 8,
   "id": "25e9b556",
   "metadata": {},
   "outputs": [],
   "source": [
    "l1=[\"python\",\"jupyter\",[1,2,3],True,24,76]"
   ]
  },
  {
   "cell_type": "code",
   "execution_count": 9,
   "id": "e052a531",
   "metadata": {},
   "outputs": [
    {
     "ename": "TypeError",
     "evalue": "can only concatenate list (not \"str\") to list",
     "output_type": "error",
     "traceback": [
      "\u001b[1;31m---------------------------------------------------------------------------\u001b[0m",
      "\u001b[1;31mTypeError\u001b[0m                                 Traceback (most recent call last)",
      "Cell \u001b[1;32mIn[9], line 1\u001b[0m\n\u001b[1;32m----> 1\u001b[0m l1\u001b[38;5;241m+\u001b[39ms\n",
      "\u001b[1;31mTypeError\u001b[0m: can only concatenate list (not \"str\") to list"
     ]
    }
   ],
   "source": [
    "l1+s"
   ]
  },
  {
   "cell_type": "code",
   "execution_count": 10,
   "id": "50541eb5",
   "metadata": {},
   "outputs": [
    {
     "data": {
      "text/plain": [
       "['D', 'a', 't', 'a', ' ', 'S', 'c', 'i', 'e', 'n', 'c', 'e', ' ', '1']"
      ]
     },
     "execution_count": 10,
     "metadata": {},
     "output_type": "execute_result"
    }
   ],
   "source": [
    "#list as a function\n",
    "list(s)\n",
    "# breaks elements and store"
   ]
  },
  {
   "cell_type": "code",
   "execution_count": 11,
   "id": "83dbbf44",
   "metadata": {},
   "outputs": [
    {
     "data": {
      "text/plain": [
       "['python',\n",
       " 'jupyter',\n",
       " [1, 2, 3],\n",
       " True,\n",
       " 24,\n",
       " 76,\n",
       " 'D',\n",
       " 'a',\n",
       " 't',\n",
       " 'a',\n",
       " ' ',\n",
       " 'S',\n",
       " 'c',\n",
       " 'i',\n",
       " 'e',\n",
       " 'n',\n",
       " 'c',\n",
       " 'e',\n",
       " ' ',\n",
       " '1']"
      ]
     },
     "execution_count": 11,
     "metadata": {},
     "output_type": "execute_result"
    }
   ],
   "source": [
    "l1+list(s)"
   ]
  },
  {
   "cell_type": "code",
   "execution_count": 12,
   "id": "31a7f479",
   "metadata": {},
   "outputs": [
    {
     "data": {
      "text/plain": [
       "['D', 'a', 't', 'a', ' ', 'S', 'c', 'i', 'e', 'n', 'c', 'e', ' ', '1']"
      ]
     },
     "execution_count": 12,
     "metadata": {},
     "output_type": "execute_result"
    }
   ],
   "source": [
    "#list as a function\n",
    "list(s)\n",
    "# breaks elements and store"
   ]
  },
  {
   "cell_type": "code",
   "execution_count": 13,
   "id": "f260ea49",
   "metadata": {},
   "outputs": [
    {
     "data": {
      "text/plain": [
       "3"
      ]
     },
     "execution_count": 13,
     "metadata": {},
     "output_type": "execute_result"
    }
   ],
   "source": [
    "# accessing list in list\n",
    "l1[2][2]"
   ]
  },
  {
   "cell_type": "code",
   "execution_count": 14,
   "id": "612fdbce",
   "metadata": {},
   "outputs": [
    {
     "ename": "TypeError",
     "evalue": "'bool' object is not subscriptable",
     "output_type": "error",
     "traceback": [
      "\u001b[1;31m---------------------------------------------------------------------------\u001b[0m",
      "\u001b[1;31mTypeError\u001b[0m                                 Traceback (most recent call last)",
      "Cell \u001b[1;32mIn[14], line 2\u001b[0m\n\u001b[0;32m      1\u001b[0m \u001b[38;5;66;03m# part of bool inside list\u001b[39;00m\n\u001b[1;32m----> 2\u001b[0m l1[\u001b[38;5;241m3\u001b[39m][\u001b[38;5;241m1\u001b[39m]\n",
      "\u001b[1;31mTypeError\u001b[0m: 'bool' object is not subscriptable"
     ]
    }
   ],
   "source": [
    "# part of bool inside list\n",
    "l1[3][1]"
   ]
  },
  {
   "cell_type": "code",
   "execution_count": 15,
   "id": "88ffe8d3",
   "metadata": {},
   "outputs": [
    {
     "data": {
      "text/plain": [
       "'True'"
      ]
     },
     "execution_count": 15,
     "metadata": {},
     "output_type": "execute_result"
    }
   ],
   "source": [
    "str(l1[3])"
   ]
  },
  {
   "cell_type": "code",
   "execution_count": 16,
   "id": "614d7643",
   "metadata": {},
   "outputs": [
    {
     "data": {
      "text/plain": [
       "'Tr'"
      ]
     },
     "execution_count": 16,
     "metadata": {},
     "output_type": "execute_result"
    }
   ],
   "source": [
    "q= str(l1[3])[0:2]\n",
    "q"
   ]
  },
  {
   "cell_type": "code",
   "execution_count": 17,
   "id": "76bcf693",
   "metadata": {},
   "outputs": [
    {
     "data": {
      "text/plain": [
       "[1, 2, 3, 4, 'python', 'jupyter', [1, 2, 3], True, 24, 76]"
      ]
     },
     "execution_count": 17,
     "metadata": {},
     "output_type": "execute_result"
    }
   ],
   "source": [
    "# list + list\n",
    "l=[1,2,3,4]\n",
    "l+l1"
   ]
  },
  {
   "cell_type": "code",
   "execution_count": 18,
   "id": "17c705be",
   "metadata": {},
   "outputs": [
    {
     "data": {
      "text/plain": [
       "[1, 2, 3, 4, 2]"
      ]
     },
     "execution_count": 18,
     "metadata": {},
     "output_type": "execute_result"
    }
   ],
   "source": [
    "l.append(2) # append only at last\n",
    "l"
   ]
  },
  {
   "cell_type": "code",
   "execution_count": 19,
   "id": "028f120b",
   "metadata": {},
   "outputs": [
    {
     "data": {
      "text/plain": [
       "['python', 'jupyter', [1, 2, 3], True, 24, 76, 'Data Science 1']"
      ]
     },
     "execution_count": 19,
     "metadata": {},
     "output_type": "execute_result"
    }
   ],
   "source": [
    "l1.append(s)\n",
    "l1"
   ]
  },
  {
   "cell_type": "code",
   "execution_count": 21,
   "id": "d28972c0",
   "metadata": {},
   "outputs": [
    {
     "data": {
      "text/plain": [
       "['python',\n",
       " 'jupyter',\n",
       " [1, 2, 3],\n",
       " True,\n",
       " 24,\n",
       " 76,\n",
       " 'Data Science 1',\n",
       " 1,\n",
       " 2,\n",
       " 3,\n",
       " 4,\n",
       " 2,\n",
       " 1,\n",
       " 2,\n",
       " 3,\n",
       " 4,\n",
       " 2]"
      ]
     },
     "execution_count": 21,
     "metadata": {},
     "output_type": "execute_result"
    }
   ],
   "source": [
    "# extend-> takes iterable data,  unwrap and store\n",
    "l1.extend(l)\n",
    "l1"
   ]
  },
  {
   "cell_type": "code",
   "execution_count": 22,
   "id": "879d8d87",
   "metadata": {},
   "outputs": [
    {
     "data": {
      "text/plain": [
       "[1,\n",
       " 2,\n",
       " 3,\n",
       " 4,\n",
       " 2,\n",
       " 'D',\n",
       " 'a',\n",
       " 't',\n",
       " 'a',\n",
       " ' ',\n",
       " 'S',\n",
       " 'c',\n",
       " 'i',\n",
       " 'e',\n",
       " 'n',\n",
       " 'c',\n",
       " 'e',\n",
       " ' ',\n",
       " '1']"
      ]
     },
     "execution_count": 22,
     "metadata": {},
     "output_type": "execute_result"
    }
   ],
   "source": [
    "l.extend(s)\n",
    "l"
   ]
  },
  {
   "cell_type": "code",
   "execution_count": 24,
   "id": "6fdb4372",
   "metadata": {},
   "outputs": [
    {
     "data": {
      "text/plain": [
       "[1,\n",
       " 2,\n",
       " 'Vansh',\n",
       " 3,\n",
       " 4,\n",
       " 2,\n",
       " 'D',\n",
       " 'a',\n",
       " 't',\n",
       " 'a',\n",
       " ' ',\n",
       " 'S',\n",
       " 'c',\n",
       " 'i',\n",
       " 'e',\n",
       " 'n',\n",
       " 'c',\n",
       " 'e',\n",
       " ' ',\n",
       " '1']"
      ]
     },
     "execution_count": 24,
     "metadata": {},
     "output_type": "execute_result"
    }
   ],
   "source": [
    "# insert->  used to store at a given position\n",
    "l.insert(2,\"Vansh\")\n",
    "l"
   ]
  },
  {
   "cell_type": "code",
   "execution_count": 25,
   "id": "af8ba095",
   "metadata": {},
   "outputs": [],
   "source": [
    "l2=[\"DSA\", \"CP\",\"WEB DEV\",\"DATA SCIENCE\"]\n",
    "l2.insert(-1,\"JAVA\")"
   ]
  },
  {
   "cell_type": "code",
   "execution_count": 27,
   "id": "4c20dccf",
   "metadata": {},
   "outputs": [
    {
     "data": {
      "text/plain": [
       "['DSA', 'CP', 'WEB DEV', 'JAVA', 'DATA SCIENCE']"
      ]
     },
     "execution_count": 27,
     "metadata": {},
     "output_type": "execute_result"
    }
   ],
   "source": [
    "l2\n",
    "# -1 pe hi store kiya,next element aage forward ho gya"
   ]
  },
  {
   "cell_type": "code",
   "execution_count": 28,
   "id": "d1b5f3af",
   "metadata": {},
   "outputs": [
    {
     "data": {
      "text/plain": [
       "'DSA'"
      ]
     },
     "execution_count": 28,
     "metadata": {},
     "output_type": "execute_result"
    }
   ],
   "source": [
    "# Removing from list\n",
    "l2.pop(0)"
   ]
  },
  {
   "cell_type": "code",
   "execution_count": 29,
   "id": "13878c5c",
   "metadata": {},
   "outputs": [
    {
     "data": {
      "text/plain": [
       "['CP', 'WEB DEV', 'JAVA', 'DATA SCIENCE']"
      ]
     },
     "execution_count": 29,
     "metadata": {},
     "output_type": "execute_result"
    }
   ],
   "source": [
    "l2"
   ]
  },
  {
   "cell_type": "code",
   "execution_count": 32,
   "id": "74d171aa",
   "metadata": {},
   "outputs": [],
   "source": [
    "l3=[\"DSA\", \"CP\",\"WEB DEV\",\"DATA SCIENCE\",\"Video Editing\",\"DSA\"]"
   ]
  },
  {
   "cell_type": "code",
   "execution_count": 34,
   "id": "fed223ce",
   "metadata": {},
   "outputs": [
    {
     "data": {
      "text/plain": [
       "['CP', 'WEB DEV', 'DATA SCIENCE', 'Video Editing', 'DSA']"
      ]
     },
     "execution_count": 34,
     "metadata": {},
     "output_type": "execute_result"
    }
   ],
   "source": [
    "l3.remove(\"DSA\")\n",
    "l3\n",
    "# removes first occurance"
   ]
  },
  {
   "cell_type": "code",
   "execution_count": 35,
   "id": "1f67014e",
   "metadata": {},
   "outputs": [],
   "source": [
    "# from list in list\n",
    "l4=[[1,2,3,4],[2,2,3,3]]\n",
    "l4[1].remove(3)"
   ]
  },
  {
   "cell_type": "code",
   "execution_count": 36,
   "id": "63e9bc70",
   "metadata": {},
   "outputs": [
    {
     "data": {
      "text/plain": [
       "[[1, 2, 3, 4], [2, 2, 3]]"
      ]
     },
     "execution_count": 36,
     "metadata": {},
     "output_type": "execute_result"
    }
   ],
   "source": [
    "l4"
   ]
  },
  {
   "cell_type": "code",
   "execution_count": 39,
   "id": "4bba6925",
   "metadata": {},
   "outputs": [
    {
     "data": {
      "text/plain": [
       "['DSA', 'Video Editing', 'DATA SCIENCE', 'WEB DEV', 'CP']"
      ]
     },
     "execution_count": 39,
     "metadata": {},
     "output_type": "execute_result"
    }
   ],
   "source": [
    "# reverse\n",
    "l3[::-1]\n",
    "# temporary"
   ]
  },
  {
   "cell_type": "code",
   "execution_count": 40,
   "id": "5f6148f1",
   "metadata": {},
   "outputs": [
    {
     "data": {
      "text/plain": [
       "['CP', 'WEB DEV', 'DATA SCIENCE', 'Video Editing', 'DSA']"
      ]
     },
     "execution_count": 40,
     "metadata": {},
     "output_type": "execute_result"
    }
   ],
   "source": [
    "l3"
   ]
  },
  {
   "cell_type": "code",
   "execution_count": 45,
   "id": "e61837c7",
   "metadata": {},
   "outputs": [],
   "source": [
    "l3.reverse()  # permanent"
   ]
  },
  {
   "cell_type": "code",
   "execution_count": 46,
   "id": "8abcfa51",
   "metadata": {},
   "outputs": [
    {
     "data": {
      "text/plain": [
       "['DSA', 'Video Editing', 'DATA SCIENCE', 'WEB DEV', 'CP']"
      ]
     },
     "execution_count": 46,
     "metadata": {},
     "output_type": "execute_result"
    }
   ],
   "source": [
    "l3"
   ]
  },
  {
   "cell_type": "code",
   "execution_count": 50,
   "id": "a7c26cc8",
   "metadata": {},
   "outputs": [
    {
     "data": {
      "text/plain": [
       "[0, 2, 23, 45, 67]"
      ]
     },
     "execution_count": 50,
     "metadata": {},
     "output_type": "execute_result"
    }
   ],
   "source": [
    "l5=[2,45,67,0,23]\n",
    "l5.sort()\n",
    "# sort in ascending order\n",
    "l5"
   ]
  },
  {
   "cell_type": "code",
   "execution_count": 51,
   "id": "c6bfa811",
   "metadata": {},
   "outputs": [
    {
     "data": {
      "text/plain": [
       "[0, 2, 23, 45, 67, 'Vansh']"
      ]
     },
     "execution_count": 51,
     "metadata": {},
     "output_type": "execute_result"
    }
   ],
   "source": [
    "l5.append(\"Vansh\")\n",
    "l5"
   ]
  },
  {
   "cell_type": "code",
   "execution_count": 54,
   "id": "bd1c85a3",
   "metadata": {},
   "outputs": [
    {
     "ename": "TypeError",
     "evalue": "'<' not supported between instances of 'str' and 'int'",
     "output_type": "error",
     "traceback": [
      "\u001b[1;31m---------------------------------------------------------------------------\u001b[0m",
      "\u001b[1;31mTypeError\u001b[0m                                 Traceback (most recent call last)",
      "Cell \u001b[1;32mIn[54], line 1\u001b[0m\n\u001b[1;32m----> 1\u001b[0m l5\u001b[38;5;241m.\u001b[39msort()\n",
      "\u001b[1;31mTypeError\u001b[0m: '<' not supported between instances of 'str' and 'int'"
     ]
    }
   ],
   "source": [
    "l5.sort()\n",
    "# between similar data types"
   ]
  },
  {
   "cell_type": "code",
   "execution_count": 55,
   "id": "0626897c",
   "metadata": {},
   "outputs": [
    {
     "data": {
      "text/plain": [
       "[0, 2, 23, 45, 67]"
      ]
     },
     "execution_count": 55,
     "metadata": {},
     "output_type": "execute_result"
    }
   ],
   "source": [
    "# descending order\n",
    "l5.pop()\n",
    "l5"
   ]
  },
  {
   "cell_type": "code",
   "execution_count": 57,
   "id": "441f8bfc",
   "metadata": {},
   "outputs": [
    {
     "data": {
      "text/plain": [
       "[67, 45, 23, 2, 0]"
      ]
     },
     "execution_count": 57,
     "metadata": {},
     "output_type": "execute_result"
    }
   ],
   "source": [
    "l5.sort(reverse=True)\n",
    "l5"
   ]
  },
  {
   "cell_type": "code",
   "execution_count": 58,
   "id": "43c48134",
   "metadata": {},
   "outputs": [
    {
     "data": {
      "text/plain": [
       "'Data Science 1'"
      ]
     },
     "execution_count": 58,
     "metadata": {},
     "output_type": "execute_result"
    }
   ],
   "source": [
    "s"
   ]
  },
  {
   "cell_type": "code",
   "execution_count": 61,
   "id": "b7b7bc79",
   "metadata": {},
   "outputs": [
    {
     "data": {
      "text/plain": [
       "'data Science 1'"
      ]
     },
     "execution_count": 61,
     "metadata": {},
     "output_type": "execute_result"
    }
   ],
   "source": [
    "s.replace('D','d') # temporary"
   ]
  },
  {
   "cell_type": "markdown",
   "id": "ad2b003e",
   "metadata": {},
   "source": [
    "# Tuple"
   ]
  },
  {
   "cell_type": "code",
   "execution_count": 64,
   "id": "05a36f32",
   "metadata": {},
   "outputs": [],
   "source": [
    "#list-> mutable\n",
    "# tuple-> immutable\n",
    "\n",
    "t=(\"badminton\",\"basketball\",\"volleyball\")\n",
    "\n",
    "# only index and count function"
   ]
  },
  {
   "cell_type": "code",
   "execution_count": 65,
   "id": "a9d0d9ed",
   "metadata": {},
   "outputs": [
    {
     "data": {
      "text/plain": [
       "1"
      ]
     },
     "execution_count": 65,
     "metadata": {},
     "output_type": "execute_result"
    }
   ],
   "source": [
    "t.index(\"basketball\")"
   ]
  },
  {
   "cell_type": "markdown",
   "id": "5e4f95b5",
   "metadata": {},
   "source": [
    "# Set"
   ]
  },
  {
   "cell_type": "code",
   "execution_count": 68,
   "id": "a430e3ef",
   "metadata": {},
   "outputs": [
    {
     "data": {
      "text/plain": [
       "dict"
      ]
     },
     "execution_count": 68,
     "metadata": {},
     "output_type": "execute_result"
    }
   ],
   "source": [
    "s1={}\n",
    "type(s1)\n",
    "# type = dict when set is empty"
   ]
  },
  {
   "cell_type": "code",
   "execution_count": 69,
   "id": "b9ec901e",
   "metadata": {},
   "outputs": [],
   "source": [
    "s2={2,3,3,4,5,5}"
   ]
  },
  {
   "cell_type": "code",
   "execution_count": 71,
   "id": "b8788485",
   "metadata": {},
   "outputs": [
    {
     "data": {
      "text/plain": [
       "{2, 3, 4, 5}"
      ]
     },
     "execution_count": 71,
     "metadata": {},
     "output_type": "execute_result"
    }
   ],
   "source": [
    "s2\n",
    "# stores only unique element"
   ]
  },
  {
   "cell_type": "code",
   "execution_count": 87,
   "id": "dc19ebc9",
   "metadata": {},
   "outputs": [
    {
     "ename": "TypeError",
     "evalue": "unhashable type: 'list'",
     "output_type": "error",
     "traceback": [
      "\u001b[1;31m---------------------------------------------------------------------------\u001b[0m",
      "\u001b[1;31mTypeError\u001b[0m                                 Traceback (most recent call last)",
      "Cell \u001b[1;32mIn[87], line 2\u001b[0m\n\u001b[0;32m      1\u001b[0m \u001b[38;5;66;03m# list inside set\u001b[39;00m\n\u001b[1;32m----> 2\u001b[0m s3\u001b[38;5;241m=\u001b[39m{\u001b[38;5;124m\"\u001b[39m\u001b[38;5;124msports\u001b[39m\u001b[38;5;124m\"\u001b[39m,\u001b[38;5;124m\"\u001b[39m\u001b[38;5;124mstudy\u001b[39m\u001b[38;5;124m\"\u001b[39m,[\u001b[38;5;241m3\u001b[39m,\u001b[38;5;241m6\u001b[39m,\u001b[38;5;241m9\u001b[39m]}\n\u001b[0;32m      3\u001b[0m s3\n",
      "\u001b[1;31mTypeError\u001b[0m: unhashable type: 'list'"
     ]
    }
   ],
   "source": [
    "# list inside set\n",
    "s3={\"sports\",\"study\",[3,6,9]}\n",
    "s3\n",
    "# stores only immutable element, (list is mutable)"
   ]
  },
  {
   "cell_type": "code",
   "execution_count": 88,
   "id": "741248aa",
   "metadata": {},
   "outputs": [],
   "source": [
    "l6=[3,3,4,5,6,6,7,\"vansh\",\"Vansh\",(1,2,4)]"
   ]
  },
  {
   "cell_type": "code",
   "execution_count": 89,
   "id": "5ae44c40",
   "metadata": {},
   "outputs": [
    {
     "data": {
      "text/plain": [
       "{(1, 2, 4), 3, 4, 5, 6, 7, 'Vansh', 'vansh'}"
      ]
     },
     "execution_count": 89,
     "metadata": {},
     "output_type": "execute_result"
    }
   ],
   "source": [
    "# set as a function\n",
    "set(l6)"
   ]
  },
  {
   "cell_type": "code",
   "execution_count": 90,
   "id": "a8a31a3e",
   "metadata": {},
   "outputs": [],
   "source": [
    "# remove duplicate elements from a list with help of set\n",
    "l7={3,4,5,5,6,6,7,7,8,(2,3,5,6),True,2+10j}"
   ]
  },
  {
   "cell_type": "code",
   "execution_count": 91,
   "id": "fc5b63c4",
   "metadata": {},
   "outputs": [
    {
     "data": {
      "text/plain": [
       "{(2+10j), (2, 3, 5, 6), 3, 4, 5, 6, 7, 8, True}"
      ]
     },
     "execution_count": 91,
     "metadata": {},
     "output_type": "execute_result"
    }
   ],
   "source": [
    "set(l7)"
   ]
  },
  {
   "cell_type": "code",
   "execution_count": 92,
   "id": "6519a742",
   "metadata": {},
   "outputs": [
    {
     "data": {
      "text/plain": [
       "[(2+10j), True, 3, 4, 5, 6, 7, 8, (2, 3, 5, 6)]"
      ]
     },
     "execution_count": 92,
     "metadata": {},
     "output_type": "execute_result"
    }
   ],
   "source": [
    "l7=list(set(l7))\n",
    "l7"
   ]
  },
  {
   "cell_type": "code",
   "execution_count": 98,
   "id": "607c8fbc",
   "metadata": {},
   "outputs": [
    {
     "ename": "TypeError",
     "evalue": "'set' object is not subscriptable",
     "output_type": "error",
     "traceback": [
      "\u001b[1;31m---------------------------------------------------------------------------\u001b[0m",
      "\u001b[1;31mTypeError\u001b[0m                                 Traceback (most recent call last)",
      "Cell \u001b[1;32mIn[98], line 2\u001b[0m\n\u001b[0;32m      1\u001b[0m \u001b[38;5;66;03m# no slicing, no indexing\u001b[39;00m\n\u001b[1;32m----> 2\u001b[0m s2[\u001b[38;5;241m0\u001b[39m]\n",
      "\u001b[1;31mTypeError\u001b[0m: 'set' object is not subscriptable"
     ]
    }
   ],
   "source": [
    "# no slicing, no indexing\n",
    "s2[0]"
   ]
  },
  {
   "cell_type": "code",
   "execution_count": 100,
   "id": "4ab95a6c",
   "metadata": {},
   "outputs": [
    {
     "data": {
      "text/plain": [
       "{2, 3, 4, 5, 6}"
      ]
     },
     "execution_count": 100,
     "metadata": {},
     "output_type": "execute_result"
    }
   ],
   "source": [
    "s2.add(6)\n",
    "s2"
   ]
  },
  {
   "cell_type": "code",
   "execution_count": null,
   "id": "313b56b9",
   "metadata": {},
   "outputs": [],
   "source": []
  }
 ],
 "metadata": {
  "kernelspec": {
   "display_name": "Python 3 (ipykernel)",
   "language": "python",
   "name": "python3"
  },
  "language_info": {
   "codemirror_mode": {
    "name": "ipython",
    "version": 3
   },
   "file_extension": ".py",
   "mimetype": "text/x-python",
   "name": "python",
   "nbconvert_exporter": "python",
   "pygments_lexer": "ipython3",
   "version": "3.11.5"
  }
 },
 "nbformat": 4,
 "nbformat_minor": 5
}
